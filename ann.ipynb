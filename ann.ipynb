{
  "cells": [
    {
      "cell_type": "code",
      "execution_count": 1,
      "id": "5c9c5fd1-96fa-482f-8a5b-f621e32d6b4e",
      "metadata": {
        "colab": {
          "base_uri": "https://localhost:8080/"
        },
        "id": "5c9c5fd1-96fa-482f-8a5b-f621e32d6b4e",
        "outputId": "2f81ab4b-be9f-498f-f587-a95bf1909a86"
      },
      "outputs": [
        {
          "output_type": "execute_result",
          "data": {
            "text/plain": [
              "<bound method NDFrame.head of     sepalWidth  petalWidth sampleNum      irisSpecies\n",
              "0          3.5         0.2      id_1      Iris-setosa\n",
              "1          3.0         0.2      id_2      Iris-setosa\n",
              "2          3.6         0.2      id_5      Iris-setosa\n",
              "3          3.9         0.4      id_6      Iris-setosa\n",
              "4          3.4         0.3      id_7      Iris-setosa\n",
              "..         ...         ...       ...              ...\n",
              "95         3.4         1.6     id_86  Iris-versicolor\n",
              "96         2.3         1.3     id_88  Iris-versicolor\n",
              "97         3.0         1.4     id_92  Iris-versicolor\n",
              "98         2.7         1.3     id_95  Iris-versicolor\n",
              "99         2.8         1.3    id_100  Iris-versicolor\n",
              "\n",
              "[100 rows x 4 columns]>"
            ]
          },
          "metadata": {},
          "execution_count": 1
        }
      ],
      "source": [
        "import pandas as pd\n",
        "\n",
        "data = pd.read_excel('Week_06_HW6_Iris_Dataset.xlsx')\n",
        "data.head"
      ]
    },
    {
      "cell_type": "code",
      "execution_count": 2,
      "id": "fb5dbeb2-1a60-48f1-8198-3bb111a9b358",
      "metadata": {
        "id": "fb5dbeb2-1a60-48f1-8198-3bb111a9b358"
      },
      "outputs": [],
      "source": [
        "# Split data into input features and output label\n",
        "X = data[['sepalWidth', 'petalWidth', 'sampleNum']]\n",
        "y = data['irisSpecies']\n"
      ]
    },
    {
      "cell_type": "code",
      "execution_count": 3,
      "id": "0e3bdb38-5fb5-4cfd-830d-8399dd479fda",
      "metadata": {
        "id": "0e3bdb38-5fb5-4cfd-830d-8399dd479fda"
      },
      "outputs": [],
      "source": [
        "from sklearn.preprocessing import LabelEncoder\n",
        "\n",
        "# Encode the output label as integers\n",
        "le = LabelEncoder()\n",
        "y_encoded = le.fit_transform(y)\n"
      ]
    },
    {
      "cell_type": "code",
      "execution_count": null,
      "id": "098b1764-ec46-4aa8-b270-579377f4ebf9",
      "metadata": {
        "id": "098b1764-ec46-4aa8-b270-579377f4ebf9"
      },
      "outputs": [],
      "source": [
        "from sklearn.model_selection import train_test_split\n",
        "\n",
        "# Split data into training and testing sets\n",
        "X_train, X_test, y_train, y_test = train_test_split(X, y_encoded, test_size=0.2, random_state=42)\n",
        "\n",
        "print(type(X_train))\n",
        "print(type(X_test))"
      ]
    },
    {
      "cell_type": "code",
      "execution_count": null,
      "id": "0546e106-a5f3-460b-bf10-b856aef7b4b9",
      "metadata": {
        "id": "0546e106-a5f3-460b-bf10-b856aef7b4b9"
      },
      "outputs": [],
      "source": [
        "from keras.models import Sequential\n",
        "from keras.layers import Dense\n",
        "\n",
        "# Build a neural network model\n",
        "model = Sequential()\n",
        "model.add(Dense(10, input_dim=3, activation='relu'))\n",
        "model.add(Dense(3, activation='softmax'))\n",
        "\n",
        "# Compile the model\n",
        "model.compile(loss='sparse_categorical_crossentropy', optimizer='adam', metrics=['accuracy'])\n",
        "\n",
        "# Train the model\n",
        "model.fit(X_train, y_train, epochs=50, batch_size=16, validation_data=(X_test, y_test))"
      ]
    },
    {
      "cell_type": "code",
      "execution_count": 1,
      "id": "9175df53-f259-4017-aedc-34620d7529ee",
      "metadata": {
        "colab": {
          "base_uri": "https://localhost:8080/"
        },
        "id": "9175df53-f259-4017-aedc-34620d7529ee",
        "outputId": "e949837f-0ba7-4f26-c98d-223c541ba7a7"
      },
      "outputs": [
        {
          "output_type": "stream",
          "name": "stdout",
          "text": [
            "Test accuracy: 1\n"
          ]
        }
      ],
      "source": [
        "# Evaluate the model on the testing set\n",
        "loss, accuracy = model.evaluate(X_test, y_test)\n",
        "print('Test accuracy:', accuracy)"
      ]
    },
    {
      "cell_type": "code",
      "execution_count": null,
      "id": "81350c8e-e828-44fa-9b73-38468032276a",
      "metadata": {
        "id": "81350c8e-e828-44fa-9b73-38468032276a"
      },
      "outputs": [],
      "source": []
    }
  ],
  "metadata": {
    "kernelspec": {
      "display_name": "Python 3 (ipykernel)",
      "language": "python",
      "name": "python3"
    },
    "language_info": {
      "codemirror_mode": {
        "name": "ipython",
        "version": 3
      },
      "file_extension": ".py",
      "mimetype": "text/x-python",
      "name": "python",
      "nbconvert_exporter": "python",
      "pygments_lexer": "ipython3",
      "version": "3.9.13"
    },
    "colab": {
      "provenance": []
    }
  },
  "nbformat": 4,
  "nbformat_minor": 5
}