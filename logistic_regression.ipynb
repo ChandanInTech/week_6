{
 "cells": [
  {
   "cell_type": "code",
   "execution_count": 14,
   "id": "1a9030ac-5170-43ca-b064-b6dbd6763726",
   "metadata": {},
   "outputs": [],
   "source": [
    "import pandas as pd\n",
    "import numpy as np\n",
    "from sklearn.linear_model import LogisticRegression\n",
    "from sklearn.model_selection import train_test_split\n",
    "from sklearn.preprocessing import LabelEncoder\n",
    "from sklearn.metrics import accuracy_score, confusion_matrix"
   ]
  },
  {
   "cell_type": "code",
   "execution_count": 15,
   "id": "aabd2d2a-34e5-45ec-8094-7dc96141172e",
   "metadata": {},
   "outputs": [
    {
     "data": {
      "text/plain": [
       "<bound method NDFrame.head of     sepalWidth  petalWidth sampleNum      irisSpecies\n",
       "0          3.5         0.2      id_1      Iris-setosa\n",
       "1          3.0         0.2      id_2      Iris-setosa\n",
       "2          3.6         0.2      id_5      Iris-setosa\n",
       "3          3.9         0.4      id_6      Iris-setosa\n",
       "4          3.4         0.3      id_7      Iris-setosa\n",
       "..         ...         ...       ...              ...\n",
       "95         3.4         1.6     id_86  Iris-versicolor\n",
       "96         2.3         1.3     id_88  Iris-versicolor\n",
       "97         3.0         1.4     id_92  Iris-versicolor\n",
       "98         2.7         1.3     id_95  Iris-versicolor\n",
       "99         2.8         1.3    id_100  Iris-versicolor\n",
       "\n",
       "[100 rows x 4 columns]>"
      ]
     },
     "execution_count": 15,
     "metadata": {},
     "output_type": "execute_result"
    }
   ],
   "source": [
    "data = pd.read_excel(\"Week_06_HW6_Iris_Dataset.xlsx\")\n",
    "data.head"
   ]
  },
  {
   "cell_type": "code",
   "execution_count": 16,
   "id": "b2f24e4d-2365-47f7-8c28-2b15b08201d9",
   "metadata": {},
   "outputs": [],
   "source": [
    "le = LabelEncoder()\n",
    "data['irisSpecies'] = le.fit_transform(data['irisSpecies'])"
   ]
  },
  {
   "cell_type": "code",
   "execution_count": 17,
   "id": "83da5065-189b-4d36-a1d8-7055d2c6f53d",
   "metadata": {},
   "outputs": [],
   "source": [
    "X = data[[\"sepalWidth\", \"petalWidth\"]]\n",
    "y = data[\"irisSpecies\"]"
   ]
  },
  {
   "cell_type": "code",
   "execution_count": 18,
   "id": "b7956b00-e774-4263-b92c-179209b65b87",
   "metadata": {},
   "outputs": [],
   "source": [
    "X_train, X_test, y_train, y_test = train_test_split(X, y, test_size=0.2, random_state=0)"
   ]
  },
  {
   "cell_type": "code",
   "execution_count": 19,
   "id": "1672e6d0-e386-4beb-8491-b273592cebc3",
   "metadata": {},
   "outputs": [
    {
     "data": {
      "text/plain": [
       "LogisticRegression()"
      ]
     },
     "execution_count": 19,
     "metadata": {},
     "output_type": "execute_result"
    }
   ],
   "source": [
    "logreg = LogisticRegression()\n",
    "logreg.fit(X_train, y_train)"
   ]
  },
  {
   "cell_type": "code",
   "execution_count": 20,
   "id": "91e3671f-253c-4f49-833b-7f04173750ee",
   "metadata": {},
   "outputs": [],
   "source": [
    "y_pred = logreg.predict(X_test)\n"
   ]
  },
  {
   "cell_type": "code",
   "execution_count": 21,
   "id": "33aea0b4-71b2-457d-a9ea-0fd309c73e62",
   "metadata": {},
   "outputs": [
    {
     "name": "stdout",
     "output_type": "stream",
     "text": [
      "Accuracy: 1.0\n",
      "Confusion Matrix:\n",
      " [[13  0]\n",
      " [ 0  7]]\n"
     ]
    }
   ],
   "source": [
    "print(\"Accuracy:\", accuracy_score(y_test, y_pred))\n",
    "print(\"Confusion Matrix:\\n\", confusion_matrix(y_test, y_pred))\n"
   ]
  },
  {
   "cell_type": "code",
   "execution_count": null,
   "id": "05c9f6c0-7773-462b-a845-1fd123c454ce",
   "metadata": {},
   "outputs": [],
   "source": []
  }
 ],
 "metadata": {
  "kernelspec": {
   "display_name": "Python 3 (ipykernel)",
   "language": "python",
   "name": "python3"
  },
  "language_info": {
   "codemirror_mode": {
    "name": "ipython",
    "version": 3
   },
   "file_extension": ".py",
   "mimetype": "text/x-python",
   "name": "python",
   "nbconvert_exporter": "python",
   "pygments_lexer": "ipython3",
   "version": "3.9.13"
  }
 },
 "nbformat": 4,
 "nbformat_minor": 5
}
